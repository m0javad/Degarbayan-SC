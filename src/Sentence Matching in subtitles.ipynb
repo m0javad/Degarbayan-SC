{
 "cells": [
  {
   "cell_type": "code",
   "execution_count": null,
   "metadata": {},
   "outputs": [],
   "source": [
    "#import libraries\n",
    "from difflib import SequenceMatcher\n",
    "import os, os.path\n",
    "import pandas as pd\n",
    "import numpy as np\n",
    "import pathlib\n",
    "import shutil\n",
    "import pysrt\n",
    "import re\n",
    "from num2fawords import words"
   ]
  },
  {
   "cell_type": "code",
   "execution_count": null,
   "metadata": {},
   "outputs": [],
   "source": [
    "#check out similarity\n",
    "def similar(a, b):\n",
    "    cleana = re.findall(r'[ئابپتثجچحخآدذرزسشصضطظعغفقکگلمنوهی]+' , str(a))\n",
    "    a = ''.join (cleana)\n",
    "    cleanb = re.findall(r'[ئابپتثجچحخآدذرزسشصضطظعغفقکگلمنوهی]+' , str(b))\n",
    "    b = ''.join (cleanb)\n",
    "    return SequenceMatcher(None, a, b).ratio()"
   ]
  },
  {
   "cell_type": "code",
   "execution_count": null,
   "metadata": {},
   "outputs": [],
   "source": [
    "#parse subtitles \n",
    "def parser(path):\n",
    "    sub = pysrt.open(path)\n",
    "    return sub"
   ]
  },
  {
   "cell_type": "code",
   "execution_count": null,
   "metadata": {},
   "outputs": [],
   "source": [
    "#sentence match\n",
    "def matching (sub1,sub2):\n",
    "    align = []\n",
    "    for i in range (0,len(sub1)):\n",
    "        time1_s = sub1[i].start.seconds + sub1[i].start.minutes*60\n",
    "        time1_e = sub1[i].end.seconds + sub1[i].end.minutes*60\n",
    "        text1 = sub1[i].text\n",
    "        tx1 = len(text1.split(' '))\n",
    "        for j in range (0,len(sub2)):\n",
    "            time2_s = sub2[j].start.seconds + sub2[j].start.minutes*60\n",
    "            time2_e = sub2[j].end.seconds + sub2[j].end.minutes*60\n",
    "            text2 = sub2[j].text\n",
    "            tx2 = len(text2.split(' '))\n",
    "            if time1_s == time2_s and time1_e == time2_e and similar(text1,text2)<0.70 and (max(tx1,tx2)% min(tx1,tx2))<5 and min(tx1,tx2) >4:\n",
    "                text1 = re.sub(\"[\\(\\[].*?[\\)\\]]\", \"\", text1)\n",
    "                text1 = re.sub(\"[\\u06F0-\\u06F90-9]+\", \"<عدد>\" , text1)\n",
    "                text1 = re.sub(\"[^U+200C ‌اآبپتثجچحخدذرزژسشصضطظعغفق><کگلمنوهیئء‍‍‍‍؟]+\", \" \", text1)\n",
    "                text2 = re.sub(\"[\\(\\[].*?[\\)\\]]\", \"\", text2)\n",
    "                text2 = re.sub(\"[\\u06F0-\\u06F90-9]+\", \"<عدد>\" , text2)\n",
    "                text2 = re.sub(\"[^U+200C ‌اآبپتثجچحخدذرزژسشصضطظعغفق><کگلمنوهیئء‍‍‍‍؟]+\", \" \", text2)\n",
    "                align.append([text1, text2])\n",
    "                break\n",
    "            else:\n",
    "                pass\n",
    "    return align"
   ]
  },
  {
   "cell_type": "code",
   "execution_count": null,
   "metadata": {},
   "outputs": [],
   "source": [
    "#addressing and findout locations in memory\n",
    "parent_dir = \"Path to your subtitle's Folder\"\n",
    "files = next(os.walk(parent_dir))\n",
    "len(files[1])"
   ]
  },
  {
   "cell_type": "code",
   "execution_count": null,
   "metadata": {},
   "outputs": [],
   "source": [
    "#main body\n",
    "m =[]\n",
    "for file in files[1]:\n",
    "    print (r'{}'.format(file))\n",
    "    os.chdir(parent_dir)\n",
    "    path = os.path.join(parent_dir, file)\n",
    "    fils = next(os.walk(path))\n",
    "    fis = len(fils[2])\n",
    "    for i in range (0,fis-1):\n",
    "        k = i+1\n",
    "        path1 = str (fils[0] +'/'+ fils[2][i])\n",
    "        a = fils[2][i].replace('.srt','')\n",
    "        sub1 = parser(path1)\n",
    "        for j in range (k,fis):\n",
    "            path2 = str (fils[0] +'/'+ fils[2][j])\n",
    "            b = fils[2][j].replace('.srt','')\n",
    "            if a in path2 or b in path1 :\n",
    "                sub2 = parser(path2)\n",
    "                m =[*m,*matching(sub1,sub2)]\n",
    "            else:\n",
    "                continue"
   ]
  },
  {
   "cell_type": "code",
   "execution_count": null,
   "metadata": {},
   "outputs": [],
   "source": [
    "lst = pd.DataFrame(m)\n",
    "lst"
   ]
  },
  {
   "cell_type": "code",
   "execution_count": null,
   "metadata": {},
   "outputs": [],
   "source": [
    "# write to an excel(optional)\n",
    "df = pd.DataFrame(m)\n",
    "writer = pd.ExcelWriter('.xlsx', engine='xlsxwriter')\n",
    "df.to_excel(writer, sheet_name='test1', index=False)\n",
    "writer.save()"
   ]
  },
  {
   "cell_type": "code",
   "execution_count": null,
   "metadata": {},
   "outputs": [],
   "source": [
    "#write to a CSV file\n",
    "lst.to_csv('your_name.csv',index=False)"
   ]
  },
  {
   "cell_type": "code",
   "execution_count": null,
   "metadata": {},
   "outputs": [],
   "source": []
  }
 ],
 "metadata": {
  "kernelspec": {
   "display_name": "Python 3",
   "language": "python",
   "name": "python3"
  },
  "language_info": {
   "codemirror_mode": {
    "name": "ipython",
    "version": 3
   },
   "file_extension": ".py",
   "mimetype": "text/x-python",
   "name": "python",
   "nbconvert_exporter": "python",
   "pygments_lexer": "ipython3",
   "version": "3.7.4"
  }
 },
 "nbformat": 4,
 "nbformat_minor": 2
}
