{
 "cells": [
  {
   "cell_type": "markdown",
   "metadata": {},
   "source": [
    "# Film info extractor"
   ]
  },
  {
   "cell_type": "code",
   "execution_count": null,
   "metadata": {},
   "outputs": [],
   "source": [
    "#first of all you should extract the names of the films"
   ]
  },
  {
   "cell_type": "code",
   "execution_count": null,
   "metadata": {},
   "outputs": [],
   "source": [
    "import requests \n",
    "import bs4\n",
    "import re\n",
    "import pandas as pd\n",
    "import numpy as np\n",
    "from hazm import *\n",
    "import time"
   ]
  },
  {
   "cell_type": "code",
   "execution_count": null,
   "metadata": {},
   "outputs": [],
   "source": [
    "#extract film names\n",
    "filmName = []\n",
    "pages = 1740\n",
    "base_url = \"https://worldsubtitle.site/category/movies/page/{}/\"\n",
    "for i in range (1,pages):\n",
    "    site = base_url.format(i)\n",
    "    result = requests.get(site)\n",
    "    soup = bs4.BeautifulSoup(result.text, \"lxml\")\n",
    "    #extract filmnames from a page\n",
    "    for n in range (5,15):\n",
    "        s= soup.select('h2')[n]\n",
    "        s1 = s.select('a')[0].text\n",
    "        clean = re.findall (r'[^\\n            ]+' , s1)\n",
    "        s2 = ' '.join (clean)\n",
    "        filmName.append(s2)   \n",
    "filMname = []\n",
    "for u in filmName:\n",
    "    filMname.append(str(u)+'\\n')\n",
    "with open('filmName.txt', 'w',encoding=\"utf-8\") as f:\n",
    "    f.writelines(filMname)"
   ]
  },
  {
   "cell_type": "code",
   "execution_count": null,
   "metadata": {},
   "outputs": [],
   "source": [
    "#check the file\n",
    "my_file = open(\"filmName.txt\", \"r\")\n",
    "filmnames = my_file. readlines()\n",
    "for i in range(len(filmnames)):\n",
    "    filmnames[i] = filmnames[i].replace('\\n', '')\n",
    "    filmnames[i] = filmnames[i].replace(' ', '-')\n",
    "filmnames[4]"
   ]
  },
  {
   "cell_type": "code",
   "execution_count": null,
   "metadata": {},
   "outputs": [],
   "source": [
    "def none(obj):\n",
    "    return obj == None"
   ]
  },
  {
   "cell_type": "code",
   "execution_count": null,
   "metadata": {},
   "outputs": [],
   "source": [
    "#extract film informations(optional)\n",
    "film =[]\n",
    "stars = 'None'\n",
    "genre = 'None'\n",
    "director = 'None'\n",
    "fn = len(filmnames)\n",
    "base_url = \"https://worldsubtitle.site/movies/{}/\"\n",
    "for n in range(14260,fn):\n",
    "    site = base_url.format(filmnames[n])\n",
    "    result = requests.get(site)\n",
    "    soup = bs4.BeautifulSoup(result.text, \"lxml\")\n",
    "    if soup.select('.single-text2'): \n",
    "        info = soup.select('.single-text2')[0]\n",
    "        if info.select('li'):\n",
    "            if 'ژانر:' in soup.select('.single-text2')[0].text:\n",
    "                genre = info.select('li')[0].text\n",
    "                a = 1\n",
    "                if 'ستارگان:' in soup.select('.single-text2')[0].text:\n",
    "                    stars1 = info.select('li')[a].text\n",
    "                    clean = re.findall (r'[^ستارگان: ]+' , stars1)\n",
    "                    stars = ''.join (clean)\n",
    "                    b = 2\n",
    "                else:\n",
    "                    none(stars)\n",
    "                    b = 1\n",
    "                if 'کارگردان:' in soup.select('.single-text2')[0].text:\n",
    "                    director1 = info.select('li')[b].text\n",
    "                    clean = re.findall (r'[^کارگردان: ]+' , director1)\n",
    "                    director = ''.join (clean)\n",
    "                else:\n",
    "                     none(director)\n",
    "            else:\n",
    "                a = 0\n",
    "                if 'ستارگان:' in soup.select('.single-text2')[0].text:\n",
    "                    stars1 = info.select('li')[a].text\n",
    "                    clean = re.findall (r'[^ستارگان: ]+' , stars1)\n",
    "                    stars = ''.join (clean)\n",
    "                    b = 1\n",
    "                else:\n",
    "                    none(stars)\n",
    "                    b = 0\n",
    "                if 'کارگردان:' in soup.select('.single-text2')[0].text:\n",
    "                    director1 = info.select('li')[b].text\n",
    "                    clean = re.findall (r'[^کارگردان: ]+' , director1)\n",
    "                    director = ''.join (clean)\n",
    "                else:\n",
    "                     none(director)\n",
    "    if soup.select('.new-link-3'):\n",
    "        link0 = soup.select('.new-link-3')[0]\n",
    "        link1 = link0.find_all('a', href=True)[0]\n",
    "        link = link1['href']\n",
    "    if soup.select('.sub-row-5'):\n",
    "        typesrt0 = soup.select('.sub-row-5')[0].text\n",
    "        clean = re.findall (r'[^هماهنگ با نسخه:\\n]+' , typesrt0)\n",
    "        typesrt = ''.join (clean)\n",
    "    clean = re.findall (r'[^-]+' , filmnames[n])\n",
    "    Filmnames = ' '.join (clean)\n",
    "    film.append([Filmnames, genre, stars, director, typesrt, link])\n",
    "Film = np.array(film)"
   ]
  },
  {
   "cell_type": "code",
   "execution_count": null,
   "metadata": {},
   "outputs": [],
   "source": [
    "#Write to excel\n",
    "df = pd.DataFrame(Film)\n",
    "writer = pd.ExcelWriter('Films2.xlsx', engine='xlsxwriter')\n",
    "df.to_excel(writer, sheet_name='test1', index=False)\n",
    "writer.save()"
   ]
  },
  {
   "cell_type": "code",
   "execution_count": null,
   "metadata": {},
   "outputs": [],
   "source": [
    "#read from excel\n",
    "movies = pd.read_excel(\"Films3.xlsx\")  \n",
    "filmlinks1 = movies[5].tolist()\n",
    "filmns1 = movies[0].tolist()\n",
    "len(filmns1)"
   ]
  },
  {
   "cell_type": "code",
   "execution_count": null,
   "metadata": {},
   "outputs": [],
   "source": [
    "filmns2 = []\n",
    "filmlinks = []\n",
    "fl = len(filmlinks1)\n",
    "for i in range(fl-1):\n",
    "    if not filmlinks1[i] == filmlinks1[i+1]:\n",
    "        filmlinks.append(filmlinks1[i])\n",
    "        filmns2.append(filmns1[i])"
   ]
  },
  {
   "cell_type": "code",
   "execution_count": null,
   "metadata": {},
   "outputs": [],
   "source": [
    "filmns=[]\n",
    "for filmn in filmns2:\n",
    "    filmnn= str(filmn)\n",
    "    clean = re.findall (r'[^!?@/\\#><\"$%&*:|]+' , filmnn)\n",
    "    filmn = ''.join (clean)\n",
    "    filmns.append(filmn)\n",
    "filmns.pop(0)\n",
    "filmlinks.pop(0)\n"
   ]
  },
  {
   "cell_type": "code",
   "execution_count": null,
   "metadata": {},
   "outputs": [],
   "source": [
    "import os\n",
    "parent_dir = \"/Users/Jama/filmsSRT/\"\n",
    "f2 = len(filmlinks)\n",
    "for g in range (0,f2): \n",
    "    try:\n",
    "        os.chdir(\"/Users/Jama/filmsSRT\")\n",
    "        r = requests.get(filmlinks[g], allow_redirects=True)\n",
    "        fn = filmns[g]\n",
    "        path = os.path.join(parent_dir, fn)\n",
    "        os.mkdir(path)\n",
    "        os.chdir(path)\n",
    "        with open(r'{}.rar'.format(fn), 'wb') as f:\n",
    "            f.write(r.content)\n",
    "    except:\n",
    "        continue"
   ]
  },
  {
   "cell_type": "code",
   "execution_count": null,
   "metadata": {},
   "outputs": [],
   "source": [
    "import os\n",
    "f3 = len(filmns)\n",
    "parent_dir = \"/Users/Jama/filmsSRT/\"\n",
    "for m in range(0,f3):\n",
    "    try:\n",
    "        os.chdir(\"/Users/Jama/filmsSRT\")\n",
    "        fn = filmns[m]\n",
    "        path = os.path.join(parent_dir, fn)\n",
    "        os.chdir(path)\n",
    "        os.remove(\"WorldSubtitle.url\")\n",
    "    except:\n",
    "        continue"
   ]
  },
  {
   "cell_type": "code",
   "execution_count": null,
   "metadata": {},
   "outputs": [],
   "source": [
    "import os, os.path\n",
    "filesss = next(os.walk(\"/Users/Jama/filmsSRT\"))\n",
    "filesss[1]"
   ]
  },
  {
   "cell_type": "code",
   "execution_count": null,
   "metadata": {},
   "outputs": [],
   "source": [
    "import shutil\n",
    "access = []\n",
    "parent_dir = \"/Users/Jama/filmsSRT/\"\n",
    "for filess in filesss[1]:\n",
    "    os.chdir(\"/Users/Jama/filmsSRT\")\n",
    "    path = os.path.join(parent_dir, filess)\n",
    "    files = next(os.walk(path))\n",
    "        #if 'url' or 'rar' in file:\n",
    "            #os.chdir(files[0])\n",
    "            #os.remove(file)\n",
    "    if not files[1] :\n",
    "        if len(files[2]) == 1 :\n",
    "            os.chdir(files[0])\n",
    "            os.remove(files[2][0])\n",
    "    else:\n",
    "        path1 = files[0] +'/'+ files[1][0]\n",
    "        files1 = next(os.walk(path1))\n",
    "            #if 'url' in file1:\n",
    "                #os.chdir(files1[0])\n",
    "                #os.remove(file1)\n",
    "        if len(files1[2])== 1 :\n",
    "            os.chdir(files1[0]) \n",
    "            try:\n",
    "                os.remove(files1[2][0])\n",
    "            except:\n",
    "                continue\n",
    "        else:\n",
    "            if not files1[1]:\n",
    "                for fils in files1[2]:\n",
    "                    path2 = files1[0] +'/'+ fils\n",
    "                    try:\n",
    "                        shutil.move(path2,path)\n",
    "                    except:\n",
    "                        os.remove(path2)\n",
    "            else:\n",
    "                for fls in files1[1]:\n",
    "                    fls1 = next(os.walk(files1[0] +'/'+ fls))\n",
    "                    for fils in fls1[2]:\n",
    "                        path3 = fls1[0] +'/'+ fils\n",
    "                        try:\n",
    "                            shutil.move(path3,path)\n",
    "                        except:\n",
    "                            access.append(fls1[0])\n",
    "access"
   ]
  },
  {
   "cell_type": "code",
   "execution_count": null,
   "metadata": {},
   "outputs": [],
   "source": [
    "os.chdir(\"/Users/Jama\")"
   ]
  }
 ],
 "metadata": {
  "kernelspec": {
   "display_name": "Python 3",
   "language": "python",
   "name": "python3"
  },
  "language_info": {
   "codemirror_mode": {
    "name": "ipython",
    "version": 3
   },
   "file_extension": ".py",
   "mimetype": "text/x-python",
   "name": "python",
   "nbconvert_exporter": "python",
   "pygments_lexer": "ipython3",
   "version": "3.7.4"
  }
 },
 "nbformat": 4,
 "nbformat_minor": 2
}
