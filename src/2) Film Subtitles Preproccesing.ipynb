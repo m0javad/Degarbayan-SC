{
 "cells": [
  {
   "cell_type": "code",
   "execution_count": null,
   "metadata": {},
   "outputs": [],
   "source": [
    "from subtitle_filter import Subtitles\n",
    "from difflib import SequenceMatcher\n",
    "from collections import namedtuple\n",
    "from pysubparser import parser\n",
    "from itertools import groupby\n",
    "from hazm import *\n",
    "import os, os.path\n",
    "import pathlib\n",
    "import shutil\n",
    "import pysrt\n",
    "import re"
   ]
  },
  {
   "cell_type": "code",
   "execution_count": null,
   "metadata": {},
   "outputs": [],
   "source": [
    "#clear subtitle texts and make it UFT-8\n",
    "hazfiat=[]\n",
    "def clearance(path):\n",
    "    normalizer = Normalizer()\n",
    "    try:\n",
    "        sub = pysrt.open(path)\n",
    "        a = True\n",
    "    except:\n",
    "        file_to_rem = pathlib.Path(path)\n",
    "        a = False\n",
    "    if a == True:\n",
    "        for i in range (len(sub)):\n",
    "            su = sub[i].text\n",
    "            s = normalizer.normalize(su)\n",
    "            clean = re.findall(r'[.ا.آ.ب.پ.ت.ث.ج.چ.ح.خ.د.ذ.ر.ز.ژ.س.ش.ص.ض.ط.ظ.ع.غ.ف.ق.ک.گ.ل.م.ن.و.ه.ی.ي.ئ.u./.\\d.،.۱.۲.۳.۴.۵.۶.۷.۸.۹.۰.(.).؟.?]+' , s)\n",
    "            SubtitleText = ' '.join (clean)\n",
    "            del sub[i].text\n",
    "            sub[i].text = s #SubtitleText\n",
    "        sub.save(path, encoding='utf-8')\n",
    "    if a == False:\n",
    "        return file_to_rem"
   ]
  },
  {
   "cell_type": "code",
   "execution_count": null,
   "metadata": {},
   "outputs": [],
   "source": [
    "#adjust dirctories\n",
    "def directory(ls,parent_dir):\n",
    "    if ls[1]:\n",
    "        files1 = next(os.walk(ls[0] +'/'+ ls[1][0]))\n",
    "        if not files1[1]:\n",
    "            for fils in files1[2]:\n",
    "                shutil.move(files1[0] +'/'+ fils,ls[0])\n",
    "#             os.chdir(parent_dir)\n",
    "#             shutil.rmtree(files1[0])\n",
    "        else:\n",
    "            for fls in files1[1]:\n",
    "                fls1 = next(os.walk(files1[0] +'/'+ fls))\n",
    "                if not fls1[1]:\n",
    "                    for fils in fls1[2]:\n",
    "                        shutil.move(fls1[0] +'/'+ fils,ls[0])\n",
    "                    os.chdir(parent_dir)\n",
    "                    shutil.rmtree(fls1[0])\n",
    "                else:\n",
    "                    for f in fls1[1]:\n",
    "                        fi = next(os.walk(fls1[0] +'/'+ f))\n",
    "                        for fils in fi[2]:\n",
    "                            shutil.move(fi[0] +'/'+ fils,ls[0])\n",
    "                        os.chdir(parent_dir)\n",
    "                        shutil.rmtree(fi[0])\n",
    "    \n",
    "    if len(ls[2]) < 2 :\n",
    "        os.chdir(parent_dir)\n",
    "        shutil.rmtree(ls[0])"
   ]
  },
  {
   "cell_type": "code",
   "execution_count": null,
   "metadata": {},
   "outputs": [],
   "source": [
    "#A way to parse subtitle\n",
    "def subtitles(path):\n",
    "    subs=[]\n",
    "    with open(path) as f:\n",
    "        res = [list(g) for b,g in groupby(f, lambda x: bool(x.strip())) if b]\n",
    "        Subtitle = namedtuple('Subtitle', 'number start end content')\n",
    "        for sub in res:\n",
    "            if len(sub) >= 3: # not strictly necessary, but better safe than sorry\n",
    "                sub = [x.strip() for x in sub]\n",
    "                number, start_end, *content = sub # py3 syntax\n",
    "                start, end = start_end.split(' --> ')\n",
    "                subs.append((number, start, end, content))\n",
    "    return subs"
   ]
  },
  {
   "cell_type": "code",
   "execution_count": null,
   "metadata": {},
   "outputs": [],
   "source": [
    "#Another way to parse \n",
    "def subtitles1 (path):\n",
    "    subs=[]\n",
    "    sub = parser.parse(path)\n",
    "    for su in sub:\n",
    "        clean = re.findall(r'[ئابپتثجچحخآدذرزسشصضطظعغفقکگلمنوهی]+' , str(su))\n",
    "        SubtitleText = ''.join (clean)\n",
    "        subs.append(SubtitleText) \n",
    "    return subs"
   ]
  },
  {
   "cell_type": "code",
   "execution_count": null,
   "metadata": {},
   "outputs": [],
   "source": [
    "#make subtitle ready to compare\n",
    "def parse(subs):\n",
    "    sub =[]\n",
    "    f = []\n",
    "    for i in range(0,len(subs)):\n",
    "        clean = re.findall(r'[ ئابپتثجچحخدآذرزسشصضطظعغفقکگلمنوهی  ]+' , subs[i])\n",
    "        SubtitleText = ''.join (clean)\n",
    "        if SubtitleText :\n",
    "            sub.append(SubtitleText)\n",
    "        f = ''.join(sub)\n",
    "    return f"
   ]
  },
  {
   "cell_type": "code",
   "execution_count": null,
   "metadata": {},
   "outputs": [],
   "source": [
    "# remove when a subtitle hasn't appropriate Codec\n",
    "def persian(subs,f,path):\n",
    "    try:\n",
    "        if len(subs)*5 > len(f) or len(subs)== 0 :\n",
    "            try:\n",
    "                os.remove(path)\n",
    "            except:\n",
    "                nshod.append(path)\n",
    "    except:\n",
    "        os.remove(path)"
   ]
  },
  {
   "cell_type": "code",
   "execution_count": null,
   "metadata": {},
   "outputs": [],
   "source": [
    "#check out similarity\n",
    "def similar(a, b):\n",
    "    return SequenceMatcher(None, a, b).ratio()"
   ]
  },
  {
   "cell_type": "code",
   "execution_count": null,
   "metadata": {},
   "outputs": [],
   "source": [
    "#Remove a file from a directory\n",
    "def remove(path):\n",
    "    file_to_rem = pathlib.Path(path)\n",
    "    file_to_rem.unlink()"
   ]
  },
  {
   "cell_type": "code",
   "execution_count": null,
   "metadata": {},
   "outputs": [],
   "source": [
    "#addressing and findout locations in memory\n",
    "parent_dir = \"path to subtitle's folder\"\n",
    "files = next(os.walk(parent_dir))\n",
    "len(files[1])"
   ]
  },
  {
   "cell_type": "code",
   "execution_count": null,
   "metadata": {},
   "outputs": [],
   "source": [
    "#main body of the code for removing similar subtitles\n",
    "delete = []\n",
    "for file in files[1]:\n",
    "    print (r'{}'.format(file))\n",
    "    if delete:\n",
    "        for delet in delete:\n",
    "            try:\n",
    "                remove(delet)\n",
    "            except:\n",
    "                delete.remove(delet)\n",
    "                continue\n",
    "    os.chdir(parent_dir)\n",
    "    path = os.path.join(parent_dir, file)\n",
    "    fils = next(os.walk(path))\n",
    "    fis = len(fils[2])\n",
    "    for i in range (0,fis-1):\n",
    "        k = i+1\n",
    "        path1 = str (fils[0] +'/'+ fils[2][i])\n",
    "        try:\n",
    "            first = subtitles1(path1)\n",
    "        except:\n",
    "            delete.append(path1)\n",
    "            continue\n",
    "        for j in range (k,fis):\n",
    "            path2 = str (fils[0] +'/'+ fils[2][j])\n",
    "            try:\n",
    "                second = subtitles1(path2)\n",
    "            except:\n",
    "                delete.append(path2)\n",
    "                continue\n",
    "            if similar(first,second)> 0.95 :\n",
    "                delete.append(path2)\n",
    "                print(similar(first,second))"
   ]
  },
  {
   "cell_type": "code",
   "execution_count": null,
   "metadata": {},
   "outputs": [],
   "source": [
    "#clear the text of the subtitles\n",
    "hazf=[]\n",
    "for file in files[1]:\n",
    "    print (r'{}'.format(file))\n",
    "    os.chdir(parent_dir)\n",
    "    path = os.path.join(parent_dir, file)\n",
    "    fils = next(os.walk(path))\n",
    "    for fis in fils[2]:\n",
    "        hazf.append(clearance(fils[0] +'/'+ fis))\n",
    "for haz in hazf:\n",
    "    remove(haz)"
   ]
  },
  {
   "cell_type": "code",
   "execution_count": null,
   "metadata": {},
   "outputs": [],
   "source": [
    "#remove directories with one or less subtitle\n",
    "parent_dir = \"path to folder of subtitles\"\n",
    "parentt_dir = parent_dir\n",
    "files = next(os.walk(parent_dir))\n",
    "len(files[1])\n",
    "for file in files[1]:\n",
    "    print (r'{}'.format(file))\n",
    "    os.chdir(parent_dir)\n",
    "    path = parent_dir+file\n",
    "    fils = next(os.walk(path))\n",
    "    try:\n",
    "        directory(fils,parentt_dir)\n",
    "    except:\n",
    "        continue"
   ]
  },
  {
   "cell_type": "code",
   "execution_count": null,
   "metadata": {},
   "outputs": [],
   "source": [
    "#Note: in this section first, you shoud download \"Subtitle Speech Synchronizer\" \n",
    "#then you should select batch input\n",
    "#here we produced this code to creat Yaml list to initial the batch processing \n",
    "#it gets two subtitles from each film and makes them syncronizing by each other \n",
    "#attention to number of your subtitle input \n",
    "#if you have more than 250 compares get the list into several splits by 100 compares then initial each batches seprately\n",
    "#enjoy!\n",
    "\n",
    "#creat yaml file for sycnronizing\n",
    "yamllist = []\n",
    "for file in files[1]:\n",
    "    os.chdir(\"/Users/Jama/filmsSRT\")\n",
    "    path = os.path.join(parent_dir, file)\n",
    "    fils = next(os.walk(path))\n",
    "    fis = len(fils[2])\n",
    "    for i in range (0,fis-1):\n",
    "        k = i+1\n",
    "        path1 = str (fils[0] +'/'+ fils[2][i])\n",
    "        path1 = path1.replace('/',\"\\\\\")\n",
    "        for j in range (k,fis):\n",
    "            path2 = str (fils[0] +'/'+ fils[2][j])\n",
    "            path2 = path2.replace('/','\\\\')\n",
    "            out= \"- out:\\n    enc: UTF-8\\n    path: '{ref_dir}\\{ref_name}{if:sub_lang:.}{sub_lang}.srt'\"\n",
    "            ref= '  ref:\\n    lang: per\\n    path: C:'\n",
    "            stream= '    stream: 1'\n",
    "            sub= '  sub:\\n    lang: per\\n    path: C:'\n",
    "            base = '{}\\n{}{}\\n{}\\n{}{}\\n{}\\n'\n",
    "            yaml = base.format(out,ref,path1,stream,sub,path2,stream)\n",
    "            yamllist.append(yaml)\n",
    "with open('listyaml.txt', 'w',encoding=\"utf-8\") as f:\n",
    "    f.writelines(yamllist)         \n"
   ]
  },
  {
   "cell_type": "code",
   "execution_count": null,
   "metadata": {},
   "outputs": [],
   "source": [
    "#last, you need to cahnge directory\n",
    "os.chdir('/Users')"
   ]
  },
  {
   "cell_type": "code",
   "execution_count": null,
   "metadata": {},
   "outputs": [],
   "source": []
  }
 ],
 "metadata": {
  "kernelspec": {
   "display_name": "Python 3",
   "language": "python",
   "name": "python3"
  },
  "language_info": {
   "codemirror_mode": {
    "name": "ipython",
    "version": 3
   },
   "file_extension": ".py",
   "mimetype": "text/x-python",
   "name": "python",
   "nbconvert_exporter": "python",
   "pygments_lexer": "ipython3",
   "version": "3.7.4"
  }
 },
 "nbformat": 4,
 "nbformat_minor": 2
}
